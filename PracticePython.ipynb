{
 "cells": [
  {
   "cell_type": "markdown",
   "metadata": {},
   "source": [
    "# http://www.practicepython.org"
   ]
  },
  {
   "cell_type": "markdown",
   "metadata": {},
   "source": [
    "##### Divisors  \n",
    "Exercise 4 (and Solution)\n",
    "\n",
    "Create a program that asks the user for a number and then prints out a list of all the divisors of that number. (If you don’t know what a divisor is, it is a number that divides evenly into another number. For example, 13 is a divisor of 26 because 26 / 13 has no remainder.)"
   ]
  },
  {
   "cell_type": "code",
   "execution_count": null,
   "metadata": {
    "collapsed": false,
    "scrolled": true
   },
   "outputs": [],
   "source": [
    "number=input('a number ')\n",
    "L=[]\n",
    "for x in xrange(number):\n",
    "    if number%(x+1)==0:\n",
    "        L.append(x+1)\n",
    "print L\n",
    "\n",
    "LL=[]\n",
    "LL=[x+1 for x in xrange(number) if number%(x+1)==0 ]\n",
    "print LL"
   ]
  },
  {
   "cell_type": "markdown",
   "metadata": {},
   "source": [
    "##### List Overlap  \n",
    "Exercise 5 (and Solution)\n",
    "\n",
    "Take two lists, say for example these two:\n",
    "\n",
    "  a = [1, 1, 2, 3, 5, 8, 13, 21, 34, 55, 89]\n",
    "  b = [1, 2, 3, 4, 5, 6, 7, 8, 9, 10, 11, 12, 13]\n",
    "  \n",
    "and write a program that returns a list that contains only the elements that are common between the lists (without duplicates). Make sure your program works on two lists of different sizes.\n",
    "\n",
    "Extras:\n",
    "\n",
    "Randomly generate two lists to test this\n",
    "Write this in one line of Python (don’t worry if you can’t figure this out at this point - we’ll get to it soon)"
   ]
  },
  {
   "cell_type": "code",
   "execution_count": null,
   "metadata": {
    "collapsed": false
   },
   "outputs": [],
   "source": [
    "a = [1, 1, 2, 3, 5, 8, 13, 21, 34, 55, 89]\n",
    "b = [1, 2, 3, 4, 5, 6, 7, 8, 9, 10, 11, 12, 13]\n",
    "\n",
    "c=[]\n",
    "for x in a:\n",
    "    if x in b and (x in c)==False:\n",
    "        c.append(x)\n",
    "print c\n",
    "\n",
    "cc=[]\n",
    "cc=[x for x in a if x in b and (x in cc)==False]\n",
    "print cc\n",
    "\n",
    "print list(x for x in list(set(a)) if x in list(set(b)))"
   ]
  },
  {
   "cell_type": "markdown",
   "metadata": {},
   "source": [
    "##### String Lists  \n",
    "strings lists index\n",
    "Exercise 6 (and Solution)\n",
    "\n",
    "Ask the user for a string and print out whether this string is a palindrome or not. (A palindrome is a string that reads the same forwards and backwards.)"
   ]
  },
  {
   "cell_type": "code",
   "execution_count": null,
   "metadata": {
    "collapsed": false
   },
   "outputs": [],
   "source": [
    "Str=input('type a string')\n",
    "if Str[::-1]==Str:\n",
    "    print('this string is a palindrome')\n",
    "else:\n",
    "    print('this string is not a palindrome')\n",
    "\n",
    "def reverse(word):\n",
    "    return word[::-1]\n",
    "print reverse(\"name\")"
   ]
  },
  {
   "cell_type": "markdown",
   "metadata": {},
   "source": [
    "##### List Comprehensions  \n",
    "Exercise 7 (and Solution)\n",
    "\n",
    "Let’s say I give you a list saved in a variable: a = [1, 4, 9, 16, 25, 36, 49, 64, 81, 100]. Write one line of Python that takes this list a and makes a new list that has only the even elements of this list in it."
   ]
  },
  {
   "cell_type": "code",
   "execution_count": null,
   "metadata": {
    "collapsed": false
   },
   "outputs": [],
   "source": [
    "a = [1, 4, 9, 16, 25, 36, 49, 64, 81, 100]\n",
    "b=[x for x in a if not(x%2)]\n",
    "print  b"
   ]
  },
  {
   "cell_type": "code",
   "execution_count": null,
   "metadata": {
    "collapsed": false
   },
   "outputs": [],
   "source": [
    "def reverse(word):\n",
    "    return word[::-1]\n",
    "print reverse(\"name\")"
   ]
  },
  {
   "cell_type": "markdown",
   "metadata": {},
   "source": [
    "#### Rock Paper Scissors   \n",
    "Exercise 8 (and Solution)\n",
    "\n",
    "Make a two-player Rock-Paper-Scissors game. (Hint: Ask for player plays (using input), compare them, print out a message of congratulations to the winner, and ask if the players want to start a new game)\n",
    "\n",
    "Remember the rules:\n",
    "\n",
    "Rock beats scissors\n",
    "Scissors beats paper\n",
    "Paper beats rock"
   ]
  },
  {
   "cell_type": "code",
   "execution_count": null,
   "metadata": {
    "collapsed": false
   },
   "outputs": [],
   "source": [
    "Continue=\"yes\"\n",
    "while Continue==\"yes\":\n",
    "    x=input('Player A please type a number')\n",
    "    y=input('Player B please type a number')\n",
    "    if x>y:\n",
    "        print('congraduate A!')\n",
    "    elif x<y:\n",
    "        print('congraduate B!')\n",
    "    else:\n",
    "        print('you are tied!')\n",
    "    Continue=input('do you want to continue? Type \"yes\" to continue; Type \"no\" to stop')"
   ]
  },
  {
   "cell_type": "markdown",
   "metadata": {},
   "source": [
    "#### Guessing Game One   \n",
    "Exercise 9 (and Solution)\n",
    "\n",
    "Generate a random number between 1 and 9 (including 1 and 9). Ask the user to guess the number, then tell them whether they guessed too low, too high, or exactly right. (Hint: remember to use the user input lessons from the very first exercise)\n",
    "\n",
    "Extras:\n",
    "\n",
    "Keep the game going until the user types “exit”\n",
    "Keep track of how many guesses the user has taken, and when the game ends, print this out."
   ]
  },
  {
   "cell_type": "code",
   "execution_count": null,
   "metadata": {
    "collapsed": false
   },
   "outputs": [],
   "source": [
    "import random\n",
    "\n",
    "Seed=random.randint(1,9)\n",
    "Guess=0\n",
    "count=0\n",
    "while Guess!=\"exit\":\n",
    "    Guess=input('guess a number')\n",
    "    if isinstance(Guess,int):\n",
    "        count=count+1\n",
    "        if Guess>Seed:\n",
    "            print('too high')\n",
    "        elif Guess<Seed:\n",
    "            print('too low')\n",
    "        else:\n",
    "            print('exactly')\n",
    "            print('and it only took you ' + str(count) + ' times')\n",
    "            break        "
   ]
  },
  {
   "cell_type": "markdown",
   "metadata": {},
   "source": [
    "#### Check Primality Functions   \n",
    "Exercise 11 (and Solution)\n",
    "\n",
    "Ask the user for a number and determine whether the number is prime or not. (For those who have forgotten, a prime number is a number that has no divisors.). You can (and should!) use your answer to Exercise 4 to help you. Take this opportunity to practice using functions, described below."
   ]
  },
  {
   "cell_type": "code",
   "execution_count": null,
   "metadata": {
    "collapsed": false
   },
   "outputs": [],
   "source": [
    "def isprime(num):\n",
    "    divisors=[x for x in xrange(1,num) if not(num%x)]\n",
    "    if len(divisors)==0:\n",
    "        return 1\n",
    "    else:\n",
    "        return 0 \n",
    "    \n",
    "number=input('input a number=')\n",
    "if isprime(number):\n",
    "    print('it is a prime')\n",
    "else:\n",
    "    print('it is not a prime')   \n",
    "\n"
   ]
  },
  {
   "cell_type": "markdown",
   "metadata": {},
   "source": [
    "#### List Ends \n",
    "Exercise 12 (and Solution)\n",
    "\n",
    "Write a program that takes a list of numbers (for example, a = [5, 10, 15, 20, 25]) and makes a new list of only the first and last elements of the given list. For practice, write this code inside a function."
   ]
  },
  {
   "cell_type": "code",
   "execution_count": null,
   "metadata": {
    "collapsed": false
   },
   "outputs": [],
   "source": [
    "a = [5, 10, 15, 20, 25]\n",
    "\n",
    "b=[a[0],a[-1]]\n",
    "print b\n",
    "\n",
    "def connect(a):\n",
    "    return [a[0],a[-1]]\n",
    "\n",
    "print connect(a)"
   ]
  },
  {
   "cell_type": "markdown",
   "metadata": {},
   "source": [
    "#### Fibonacci  \n",
    "Exercise 13 (and Solution)\n",
    "\n",
    "Write a program that asks the user how many Fibonnaci numbers to generate and then generates them. Take this opportunity to think about how you can use functions. Make sure to ask the user to enter the number of numbers in the sequence to generate.(Hint: The Fibonnaci seqence is a sequence of numbers where the next number in the sequence is the sum of the previous two numbers in the sequence. The sequence looks like this: 1, 1, 2, 3, 5, 8, 13, …)\n",
    "\n"
   ]
  },
  {
   "cell_type": "code",
   "execution_count": null,
   "metadata": {
    "collapsed": false
   },
   "outputs": [],
   "source": [
    "Number=input(\"how many Fibonnaci numbers? \")\n",
    "def generate(NO):\n",
    "    Seq=[1]\n",
    "    count=0\n",
    "    while count<NO-1:\n",
    "        if count==0:\n",
    "            Seq.append(Seq[count])\n",
    "        else:\n",
    "            Seq.append(Seq[count]+Seq[count-1])\n",
    "        count=count+1\n",
    "    return Seq\n",
    "print generate(Number)\n",
    "    "
   ]
  },
  {
   "cell_type": "markdown",
   "metadata": {},
   "source": [
    "#### List Remove Duplicates  \n",
    "Exercise 14 (and Solution)\n",
    "\n",
    "Write a program (function!) that takes a list and returns a new list that contains all the elements of the first list minus all the duplicates.\n",
    "\n",
    "Extras:\n",
    "\n",
    "Write two different functions to do this - one using a loop and constructing a list, and another using sets.\n",
    "Go back and do Exercise 5 using sets, and write the solution for that in a different function."
   ]
  },
  {
   "cell_type": "code",
   "execution_count": null,
   "metadata": {
    "collapsed": false
   },
   "outputs": [],
   "source": [
    "def Remove(seq):\n",
    "    NewSeq=[seq[0]]\n",
    "    count=1\n",
    "    while count<len(seq):\n",
    "        if seq[count] not in NewSeq:\n",
    "            NewSeq.append(seq[count])\n",
    "        count=count+1\n",
    "    return NewSeq\n",
    "print Remove([1,2,3,1,4,5,7,1])"
   ]
  },
  {
   "cell_type": "markdown",
   "metadata": {},
   "source": [
    "#### Reverse Word Order   \n",
    "strings\n",
    "Exercise 15 (and Solution)\n",
    "\n",
    "Write a program (using functions!) that asks the user for a long string containing multiple words. Print back to the user the same string, except with the words in backwards order. For example, say I type the string:\n",
    "\n",
    "  My name is Michele\n",
    "Then I would see the string:\n",
    "\n",
    "  Michele is name My\n",
    "shown back to me."
   ]
  },
  {
   "cell_type": "code",
   "execution_count": null,
   "metadata": {
    "collapsed": false
   },
   "outputs": [],
   "source": [
    "def reverse(str):\n",
    "    NewStr=str.split(' ')[::-1]\n",
    "    Final=\"\"\n",
    "    for x in NewStr:\n",
    "        Final=Final+x+' '\n",
    "    return Final\n",
    "\n",
    "STR=input('write a string ')\n",
    "print reverse(STR)\n",
    "\n",
    "def NewReverse(str):\n",
    "    return \" \".join(str.split(' ')[::-1])\n",
    "\n",
    "print NewReverse(STR)"
   ]
  },
  {
   "cell_type": "markdown",
   "metadata": {},
   "source": [
    "#### Password Generator    \n",
    "Exercise 16 (and Solution)\n",
    "\n",
    "Write a password generator in Python. Be creative with how you generate passwords - strong passwords have a mix of lowercase letters, uppercase letters, numbers, and symbols. The passwords should be random, generating a new password every time the user asks for a new password. Include your run-time code in a main method.\n",
    "\n",
    "Extra:\n",
    "\n",
    "Ask the user how strong they want their password to be. For weak passwords, pick a word or two from a list."
   ]
  },
  {
   "cell_type": "code",
   "execution_count": null,
   "metadata": {
    "collapsed": false
   },
   "outputs": [],
   "source": [
    "import random\n",
    "\n",
    "def Test(command):\n",
    "    Letter=['A','B','C','D','E','F','G','H','I']\n",
    "    Number=range(0,10)\n",
    "    Password=''\n",
    "    count=0\n",
    "    if command==\"weak\":\n",
    "        while count<4:\n",
    "            NO=random.randint(1,8)     \n",
    "            Password=Password+Letter[NO]+str(Number[NO])\n",
    "            count=count+1\n",
    "    else:\n",
    "        while count<8:\n",
    "            NO=random.randint(1,8)     \n",
    "            Password=Password+Letter[NO]+str(Number[NO])\n",
    "            count=count+1\n",
    "    return Password\n",
    "\n",
    "command=input(\"type \\weak or \\strong\")\n",
    "print Test(command)\n",
    "\n",
    "# generate a password with length \"passlen\" with no duplicate characters in the password\n",
    "\n",
    "import random\n",
    "\n",
    "s = \"abcdefghijklmnopqrstuvwxyz01234567890ABCDEFGHIJKLMNOPQRSTUVWXYZ!@#$%^&*()?\"\n",
    "passlen = 8\n",
    "p =  \"\".join(random.sample(s,passlen ))\n",
    "print p\n",
    "\n",
    "import string\n",
    "import random\n",
    "\n",
    "def pw_gen(size = 8, chars=string.ascii_letters + string.digits + string.punctuation):\n",
    "    return ''.join(random.choice(chars) for _ in range(size))\n",
    "\n",
    "print(pw_gen(int(input('How many characters in your password?'))))"
   ]
  },
  {
   "cell_type": "markdown",
   "metadata": {},
   "source": [
    "#### Decode A Web Page    \n",
    "This is the first 4-chili exercise of this blog! We’ll see what people think, and decide whether or not to continue with 4-chili exercises in the future.\n",
    "\n",
    "Exercise 17 (and Solution)\n",
    "\n",
    "Use the BeautifulSoup and requests Python packages to print out a list of all the article titles on the New York Times homepage."
   ]
  },
  {
   "cell_type": "code",
   "execution_count": null,
   "metadata": {
    "collapsed": false
   },
   "outputs": [],
   "source": [
    "!pip install BeautifulSoup\n",
    "\n",
    "!python -m pip install --upgrade pip\n",
    "\n",
    "from bs4 import BeautifulSoup\n",
    "\n",
    "help(\"modules\")\n",
    "\n",
    "import requests\n",
    "\n",
    "r=requests.get('https://www.nytimes.com')\n",
    "\n",
    "soup=BeautifulSoup(r.text)\n",
    "\n",
    "for story_heading in soup.find_all(class_=\"story-heading\"): \n",
    "    if story_heading.a: \n",
    "        print(story_heading.a.text.replace(\"\\n\", \" \").strip())\n",
    "    else: \n",
    "        print(story_heading.contents[0].strip())"
   ]
  },
  {
   "cell_type": "markdown",
   "metadata": {},
   "source": [
    "#### Cows And Bulls   \n",
    "Exercise 18 (and Solution)\n",
    "\n",
    "Create a program that will play the “cows and bulls” game with the user. The game works like this:\n",
    "\n",
    "Randomly generate a 4-digit number. Ask the user to guess a 4-digit number. For every digit that the user guessed correctly in the correct place, they have a “cow”. For every digit the user guessed correctly in the wrong place is a “bull.” Every time the user makes a guess, tell them how many “cows” and “bulls” they have. Once the user guesses the correct number, the game is over. Keep track of the number of guesses the user makes throughout teh game and tell the user at the end.\n",
    "\n",
    "Say the number generated by the computer is 1038. An example interaction could look like this:\n",
    "\n",
    "  Welcome to the Cows and Bulls Game! \n",
    "  Enter a number: \n",
    "  >>> 1234\n",
    "  2 cows, 0 bulls\n",
    "  >>> 1256\n",
    "  1 cow, 1 bull\n",
    "  ...\n",
    "Until the user guesses the number."
   ]
  },
  {
   "cell_type": "code",
   "execution_count": null,
   "metadata": {
    "collapsed": false
   },
   "outputs": [],
   "source": [
    "import random\n",
    "Goal=random.randint(1000,9999)\n",
    "print Goal\n",
    "GoalStr=str(Goal)\n",
    "\n",
    "number=0\n",
    "guess=0\n",
    "while number!=Goal:\n",
    "    number=input('Welcome to the Cows and Bulls Game? Enter a 4-digit number: ')\n",
    "    NumberStr=str(number)\n",
    "    cow=sum([1 for i in xrange(0,4) if GoalStr[i]==NumberStr[i]])\n",
    "    bull=sum([1 for i in xrange(0,4) if (GoalStr[i]!=NumberStr[i] and NumberStr[i] in GoalStr)])\n",
    "    print(' '+str(cow)+' cows, '+str(bull)+' bulls \\n')   \n",
    "    guess+=1\n",
    "    if cow==4:\n",
    "        print('you are correct after '+str(guess)+' guess')\n",
    "        break"
   ]
  },
  {
   "cell_type": "markdown",
   "metadata": {},
   "source": [
    "#### Decode A Web Page Two    \n",
    "Exercise 19 (and Solution)\n",
    "\n",
    "Using the requests and BeautifulSoup Python libraries, print to the screen the full text of the article on this website: http://www.vanityfair.com/society/2014/06/monica-lewinsky-humiliation-culture.\n",
    "\n",
    "The article is long, so it is split up between 4 pages. Your task is to print out the text to the screen so that you can read the full article without having to click any buttons.\n",
    "\n",
    "(Hint: The post here describes in detail how to use the BeautifulSoup and requests libraries through the solution of the exercise posted here.)\n",
    "\n",
    "This will just print the full text of the article to the screen. It will not make it easy to read, so next exercise we will learn how to write this text to a .txt file."
   ]
  },
  {
   "cell_type": "code",
   "execution_count": null,
   "metadata": {
    "collapsed": false
   },
   "outputs": [],
   "source": [
    "from bs4 import BeautifulSoup\n",
    "\n",
    "import requests\n",
    "\n",
    "r=requests.get(\"https://www.vanityfair.com/news/2017/10/even-the-anti-trump-resistance-cant-unite-the-dnc\")\n",
    "\n",
    "soup=BeautifulSoup(r.text)\n",
    "\n",
    "print soup.prettify()\n",
    "\n",
    "print soup.find(class_=\"content drop-cap\").text"
   ]
  },
  {
   "cell_type": "markdown",
   "metadata": {},
   "source": [
    "#### Element Search \n",
    "Exercise 20 (and Solution)\n",
    "\n",
    "Write a function that takes an ordered list of numbers (a list where the elements are in order from smallest to largest) and another number. The function decides whether or not the given number is inside the list and returns (then prints) an appropriate boolean.\n",
    "\n",
    "Extras:\n",
    "\n",
    "Use binary search."
   ]
  },
  {
   "cell_type": "code",
   "execution_count": null,
   "metadata": {
    "collapsed": false
   },
   "outputs": [],
   "source": [
    "def Insertion( NumberList, Number):\n",
    "    if Number in NumberList:\n",
    "        return 1\n",
    "    else:\n",
    "        return 0\n",
    "    \n",
    "    if __name__==\"main\":\n",
    "        Insertion([2,3,4],8)\n",
    "\n",
    "print Insertion([2,3,4],8)   \n",
    "\n",
    "import random\n",
    "print Insertion(sorted(random.sample(xrange(10000),10)),random.randint(0,10000))\n"
   ]
  },
  {
   "cell_type": "code",
   "execution_count": null,
   "metadata": {
    "collapsed": false
   },
   "outputs": [],
   "source": [
    "def BinarySearch(NumberList, Number):\n",
    "    a=0\n",
    "    b=len(NumberList)-1\n",
    "    Bool=0\n",
    "    while b>a:\n",
    "        c=(a+b)/2\n",
    "        if Number>NumberList[c]:\n",
    "            a=c\n",
    "        elif Number<NumberList[c]:\n",
    "            b=c\n",
    "        else:\n",
    "            Bool=1\n",
    "            break\n",
    "    return Bool\n",
    "\n",
    "NumberList=sorted(random.sample(xrange(10),5))\n",
    "Number=random.randint(0,10)\n",
    "print NumberList\n",
    "print Number\n",
    "print BinarySearch(NumberList,Number)\n",
    "\n",
    "        "
   ]
  },
  {
   "cell_type": "markdown",
   "metadata": {
    "collapsed": false
   },
   "source": [
    "#### Write To A File \n",
    "Exercise 21 (and Solution)\n",
    "\n",
    "Take the code from the How To Decode A Website exercise (if you didn’t do it or just want to play with some different code, use the code from the solution), and instead of printing the results to a screen, write the results to a txt file. In your code, just make up a name for the file you are saving to.\n",
    "\n",
    "Extras:\n",
    "\n",
    "Ask the user to specify the name of the output file that will be saved."
   ]
  },
  {
   "cell_type": "code",
   "execution_count": null,
   "metadata": {
    "collapsed": false
   },
   "outputs": [],
   "source": [
    "Rfile=open('test.txt','w')\n",
    "\n",
    "Rfile.write('testing')\n",
    "\n",
    "Rfile.close()"
   ]
  },
  {
   "cell_type": "markdown",
   "metadata": {},
   "source": [
    "#### Read From File \n",
    "Exercise 22 (and Solution)\n",
    "\n",
    "Given a .txt file that has a list of a bunch of names, count how many of each name there are in the file, and print out the results to the screen. I have a .txt file for you, if you want to use it!\n",
    "\n",
    "Extra:\n",
    "\n",
    "Instead of using the .txt file from above (or instead of, if you want the challenge), take this .txt file, and count how many of each “category” of each image there are. This text file is actually a list of files corresponding to the SUN database scene recognition database, and lists the file directory hierarchy for the images. Once you take a look at the first line or two of the file, it will be clear which part represents the scene category. To do this, you’re going to have to remember a bit about string parsing in Python 3. I talked a little bit about it in this post.\n",
    "Discussion\n",
    "\n",
    "Topics:\n",
    "\n",
    "Reading a file\n",
    "Dictionaries"
   ]
  },
  {
   "cell_type": "code",
   "execution_count": null,
   "metadata": {
    "collapsed": false
   },
   "outputs": [],
   "source": [
    "Tfile=open('test.txt','r')\n",
    "Name=Tfile.readlines()\n",
    "\n",
    "NameList=list(set(Name))\n",
    "NameCount=[0]*len(NameList)\n",
    "print NameCount\n",
    "\n",
    "count=0\n",
    "for x in NameList:\n",
    "    NameCount[count]=len([i for i,y in enumerate(Name) if y==x])\n",
    "    count=count+1    "
   ]
  },
  {
   "cell_type": "code",
   "execution_count": null,
   "metadata": {
    "collapsed": false
   },
   "outputs": [],
   "source": [
    "# using a dictionary\n",
    "Dict={}\n",
    "Dict= dict([(value, 0) for (key,value) in enumerate(Name) if value not in Dict.keys() ])    \n",
    "\n",
    "for (key,value) in enumerate(Name):\n",
    "    Dict[value]=Dict[value]+1 "
   ]
  },
  {
   "cell_type": "code",
   "execution_count": null,
   "metadata": {
    "collapsed": false
   },
   "outputs": [],
   "source": [
    "SFile=open('Training.txt','r')\n",
    "Pics=SFile.readlines()"
   ]
  },
  {
   "cell_type": "code",
   "execution_count": null,
   "metadata": {
    "collapsed": false
   },
   "outputs": [],
   "source": [
    "NewDict={}\n",
    "for string in Pics:\n",
    "    Cat=string[3:].partition('/')[0]\n",
    "    if Cat in NewDict:\n",
    "        NewDict[Cat]=NewDict[Cat]+1\n",
    "    else:\n",
    "        NewDict[Cat]=0"
   ]
  },
  {
   "cell_type": "markdown",
   "metadata": {},
   "source": [
    "#### A little practice for Std and SEM"
   ]
  },
  {
   "cell_type": "code",
   "execution_count": null,
   "metadata": {
    "collapsed": true
   },
   "outputs": [],
   "source": [
    "pieces=[170,167,174,179,179,156,163,156,187,156,183,179,174,179,170,156,187,179,183,174,187,167,159,170,179]\n",
    "\n",
    "Mean=sum(pieces)*1.0/len(pieces)\n",
    "\n",
    "Std = sum([(x-Mean)**2 for x in pieces])**0.5/(len(pieces)-1)**0.5\n",
    "print Std\n",
    "\n",
    "SEM=Std/len(pieces)**0.5\n",
    "print SEM\n",
    "\n",
    "from operator import sub\n",
    "map(sub,pieces,[1.0*Mean]*25)"
   ]
  },
  {
   "cell_type": "markdown",
   "metadata": {},
   "source": [
    "#### Check Tic Tac Toe  \n",
    "Exercise 26 (and Solution)\n",
    "\n",
    "This exercise is Part 2 of 4 of the Tic Tac Toe exercise series. The other exercises are: Part 1, Part 3, and Part 4.\n",
    "\n",
    "As you may have guessed, we are trying to build up to a full tic-tac-toe board. However, this is significantly more than half an hour of coding, so we’re doing it in pieces.\n",
    "\n",
    "Today, we will simply focus on checking whether someone has WON a game of Tic Tac Toe, not worrying about how the moves were made.\n",
    "\n",
    "If a game of Tic Tac Toe is represented as a list of lists, like so:\n",
    "\n",
    "game = [[1, 2, 0],\n",
    "\t[2, 1, 0],\n",
    "\t[2, 1, 1]]\n",
    "where a 0 means an empty square, a 1 means that player 1 put their token in that space, and a 2 means that player 2 put their token in that space.\n",
    "\n",
    "Your task this week: given a 3 by 3 list of lists that represents a Tic Tac Toe game board, tell me whether anyone has won, and tell me which player won, if any. A Tic Tac Toe win is 3 in a row - either in a row, a column, or a diagonal. Don’t worry about the case where TWO people have won - assume that in every board there will only be one winner.\n",
    "\n",
    "Here are some more examples to work with:\n",
    "\n",
    "winner_is_2 = [[2, 2, 0],\n",
    "\t[2, 1, 0],\n",
    "\t[2, 1, 1]]\n",
    "\n",
    "winner_is_1 = [[1, 2, 0],\n",
    "\t[2, 1, 0],\n",
    "\t[2, 1, 1]]\n",
    "\n",
    "winner_is_also_1 = [[0, 1, 0],\n",
    "\t[2, 1, 0],\n",
    "\t[2, 1, 1]]\n",
    "\n",
    "no_winner = [[1, 2, 0],\n",
    "\t[2, 1, 0],\n",
    "\t[2, 1, 2]]\n",
    "\n",
    "also_no_winner = [[1, 2, 0],\n",
    "\t[2, 1, 0],\n",
    "\t[2, 1, 0]]"
   ]
  },
  {
   "cell_type": "code",
   "execution_count": null,
   "metadata": {
    "collapsed": false
   },
   "outputs": [],
   "source": [
    "game = [[1, 2, 0], [2, 1, 0], [2, 1, 1]]\n",
    "print game"
   ]
  },
  {
   "cell_type": "code",
   "execution_count": null,
   "metadata": {
    "collapsed": false
   },
   "outputs": [],
   "source": [
    "def Check(case):\n",
    "    if case[0]==1 and case[1]==1 and case[2]==1:\n",
    "        return 1\n",
    "    elif case[0]==2 and case[1]==2 and case[2]==2:\n",
    "        return 2\n",
    "    else:\n",
    "        return 0        "
   ]
  },
  {
   "cell_type": "code",
   "execution_count": null,
   "metadata": {
    "collapsed": false
   },
   "outputs": [],
   "source": [
    "def winner(game):\n",
    "    Win=0\n",
    "    if Check([game[0][0],game[1][1],game[2][2]])==1:\n",
    "        print 'winner is 1'\n",
    "        Win =1\n",
    "        return\n",
    "    elif Check([game[0][0],game[1][1],game[2][2]])==2:\n",
    "        print 'winner is 2'\n",
    "        Win=2\n",
    "        return\n",
    "    for i in xrange(0,3):\n",
    "        if Check(game[i])==1:\n",
    "            print 'winner is 1'\n",
    "            Win=1\n",
    "            break\n",
    "        elif Check(game[i])==2:\n",
    "            print 'winner is 2'\n",
    "            Win=2\n",
    "            break\n",
    "        elif Check([game[0][i], game[1][i], game[2][i]])==1:\n",
    "            print 'winner is 1'\n",
    "            Win=1\n",
    "            break\n",
    "        elif Check([game[0][i], game[1][i], game[2][i]])==2:\n",
    "            print 'winner is 2'\n",
    "            Win=2\n",
    "            break\n",
    "    if Win==0:\n",
    "        print 'no winner'\n",
    "    "
   ]
  },
  {
   "cell_type": "code",
   "execution_count": null,
   "metadata": {
    "collapsed": false
   },
   "outputs": [],
   "source": [
    "winner( [[2, 2, 0], [2, 1, 0], [2, 1, 1]])"
   ]
  },
  {
   "cell_type": "code",
   "execution_count": null,
   "metadata": {
    "collapsed": true
   },
   "outputs": [],
   "source": [
    "import numpy as np\n",
    "\n",
    "def win(game):\n",
    "    win=0\n",
    "    array1=np.array(game)\n",
    "    array2=np.transpose(game)\n",
    "    array3=np.diag(game)\n",
    "    if set(array3)=={1}:\n",
    "        print \"winner is 1\"\n",
    "        win=1\n",
    "        return\n",
    "    elif set(array3)=={2}:\n",
    "        print \"winner is 2\"\n",
    "        win =2\n",
    "        return\n",
    "    for i in xrange(0,3):\n",
    "        if set(array1[i])=={1}:\n",
    "            print \"winner is 1\"\n",
    "            win=1\n",
    "            break\n",
    "        elif set(array1[i])=={2}:\n",
    "            print \"winner is 2\"\n",
    "            win=2\n",
    "            break\n",
    "        if set(array2[i])=={1}:\n",
    "            print \"winner is 1\"\n",
    "            win=1\n",
    "            break\n",
    "        elif set(array2[i])=={2}:\n",
    "            print \"winner is 2\"\n",
    "            win=2\n",
    "            break\n",
    "    if win==0:\n",
    "        print \"no winer\"\n",
    "    "
   ]
  },
  {
   "cell_type": "code",
   "execution_count": null,
   "metadata": {
    "collapsed": false
   },
   "outputs": [],
   "source": [
    "win([[1,1,1],[2,2,2],[2,2,2]])"
   ]
  },
  {
   "cell_type": "markdown",
   "metadata": {},
   "source": [
    "#### Pick Word  \n",
    "Exercise 30 (and Solution)\n",
    "\n",
    "This exercise is Part 1 of 3 of the Hangman exercise series. The other exercises are: Part 2 and Part 3.\n",
    "\n",
    "In this exercise, the task is to write a function that picks a random word from a list of words from the SOWPODS dictionary. Download this file and save it in the same directory as your Python code. This file is Peter Norvig’s compilation of the dictionary of words used in professional Scrabble tournaments. Each line in the file contains a single word.\n",
    "\n",
    "Hint: use the Python random library for picking a random word.\n",
    "\n",
    "Aside: what is SOWPODS"
   ]
  },
  {
   "cell_type": "code",
   "execution_count": null,
   "metadata": {
    "collapsed": false
   },
   "outputs": [],
   "source": [
    "import urllib2\n",
    "\n",
    "obj=urllib2.urlopen('http://norvig.com/ngrams/sowpods.txt')\n",
    "\n",
    "text=obj.readlines()\n",
    "\n",
    "words=text.split('\\r\\n')\n",
    "\n",
    "import random\n",
    "\n",
    "print words[random.randint(0,len(words)-1)]"
   ]
  },
  {
   "cell_type": "markdown",
   "metadata": {},
   "source": [
    "#### Birthday Plots   \n",
    "Exercise 36 (and Solution)\n",
    "\n",
    "This exercise is Part 4 of 4 of the birthday data exercise series. The other exercises are: Part 1, Part 2, and Part 3.\n",
    "\n",
    "In the previous exercise we counted how many birthdays there are in each month in our dictionary of birthdays.\n",
    "\n",
    "In this exercise, use the bokeh Python library to plot a histogram of which months the scientists have birthdays in! Because it would take a long time for you to input the months of various scientists, you can use my scientist birthday JSON file. Just parse out the months (if you don’t know how, I suggest looking at the previous exercise or its solution) and draw your histogram."
   ]
  },
  {
   "cell_type": "code",
   "execution_count": null,
   "metadata": {
    "collapsed": false
   },
   "outputs": [],
   "source": [
    "Birthday={'Mary':'01/17','Jone':'05/16'}"
   ]
  },
  {
   "cell_type": "code",
   "execution_count": null,
   "metadata": {
    "collapsed": false
   },
   "outputs": [],
   "source": [
    "dict(Mary=2,Jone=4)"
   ]
  },
  {
   "cell_type": "code",
   "execution_count": null,
   "metadata": {
    "collapsed": false
   },
   "outputs": [],
   "source": [
    "import urllib2"
   ]
  },
  {
   "cell_type": "code",
   "execution_count": null,
   "metadata": {
    "collapsed": false
   },
   "outputs": [],
   "source": [
    "obj=urllib2.urlopen('http://www.practicepython.org/assets/scientist_birthdays.json')"
   ]
  },
  {
   "cell_type": "code",
   "execution_count": null,
   "metadata": {
    "collapsed": false
   },
   "outputs": [],
   "source": [
    "birth=obj.read()"
   ]
  },
  {
   "cell_type": "code",
   "execution_count": null,
   "metadata": {
    "collapsed": false
   },
   "outputs": [],
   "source": [
    "import json"
   ]
  },
  {
   "cell_type": "code",
   "execution_count": null,
   "metadata": {
    "collapsed": false
   },
   "outputs": [],
   "source": [
    "BirthDict=json.loads(birth)"
   ]
  },
  {
   "cell_type": "code",
   "execution_count": null,
   "metadata": {
    "collapsed": false
   },
   "outputs": [],
   "source": [
    "Month=[]\n",
    "for (key,value) in BirthDict.iteritems():\n",
    "    Month.append(int(str(value).split('/')[0]))\n",
    "Month"
   ]
  },
  {
   "cell_type": "code",
   "execution_count": null,
   "metadata": {
    "collapsed": true
   },
   "outputs": [],
   "source": [
    "from collections import Counter"
   ]
  },
  {
   "cell_type": "code",
   "execution_count": null,
   "metadata": {
    "collapsed": false
   },
   "outputs": [],
   "source": [
    "count=Counter(Month)\n",
    "print count"
   ]
  },
  {
   "cell_type": "code",
   "execution_count": null,
   "metadata": {
    "collapsed": true
   },
   "outputs": [],
   "source": [
    "from bokeh.plotting import figure, show, output_file"
   ]
  },
  {
   "cell_type": "code",
   "execution_count": null,
   "metadata": {
    "collapsed": true
   },
   "outputs": [],
   "source": [
    "output_file=\"plot.html\""
   ]
  },
  {
   "cell_type": "code",
   "execution_count": null,
   "metadata": {
    "collapsed": true
   },
   "outputs": [],
   "source": [
    "p=figure()"
   ]
  },
  {
   "cell_type": "code",
   "execution_count": null,
   "metadata": {
    "collapsed": false
   },
   "outputs": [],
   "source": [
    "p.line(count.keys(),count.values())"
   ]
  },
  {
   "cell_type": "code",
   "execution_count": null,
   "metadata": {
    "collapsed": false
   },
   "outputs": [],
   "source": [
    "show(p)"
   ]
  },
  {
   "cell_type": "code",
   "execution_count": null,
   "metadata": {
    "collapsed": false
   },
   "outputs": [],
   "source": [
    "import matplotlib.pyplot as ply"
   ]
  },
  {
   "cell_type": "code",
   "execution_count": null,
   "metadata": {
    "collapsed": false
   },
   "outputs": [],
   "source": [
    "ply.plot(count.keys(),count.values())"
   ]
  },
  {
   "cell_type": "code",
   "execution_count": null,
   "metadata": {
    "collapsed": true
   },
   "outputs": [],
   "source": [
    "%matplotlib inline"
   ]
  },
  {
   "cell_type": "code",
   "execution_count": null,
   "metadata": {
    "collapsed": false
   },
   "outputs": [],
   "source": [
    "ply.plot(count.keys(),count.values())"
   ]
  },
  {
   "cell_type": "markdown",
   "metadata": {},
   "source": [
    "#### scikit-learn logistic regression\n",
    "http://www.bogotobogo.com/python/scikit-learn/scikit-learn_logistic_regression.php\n"
   ]
  },
  {
   "cell_type": "code",
   "execution_count": 1,
   "metadata": {
    "collapsed": false
   },
   "outputs": [],
   "source": [
    "from sklearn import datasets"
   ]
  },
  {
   "cell_type": "code",
   "execution_count": 2,
   "metadata": {
    "collapsed": false
   },
   "outputs": [],
   "source": [
    "iris=datasets.load_iris()"
   ]
  },
  {
   "cell_type": "code",
   "execution_count": 3,
   "metadata": {
    "collapsed": false
   },
   "outputs": [],
   "source": [
    "import numpy as np"
   ]
  },
  {
   "cell_type": "code",
   "execution_count": 4,
   "metadata": {
    "collapsed": false
   },
   "outputs": [],
   "source": [
    "X=iris.data[:,[2,3]]\n",
    "y=iris.target"
   ]
  },
  {
   "cell_type": "code",
   "execution_count": 5,
   "metadata": {
    "collapsed": false
   },
   "outputs": [],
   "source": [
    "from sklearn.cross_validation import train_test_split"
   ]
  },
  {
   "cell_type": "code",
   "execution_count": 6,
   "metadata": {
    "collapsed": false
   },
   "outputs": [],
   "source": [
    "X_train,X_test,y_train,y_test=train_test_split(X,y,test_size=0.3,random_state=0)"
   ]
  },
  {
   "cell_type": "code",
   "execution_count": 7,
   "metadata": {
    "collapsed": false
   },
   "outputs": [],
   "source": [
    "from sklearn.preprocessing import StandardScaler"
   ]
  },
  {
   "cell_type": "code",
   "execution_count": 8,
   "metadata": {
    "collapsed": true
   },
   "outputs": [],
   "source": [
    "sc=StandardScaler()"
   ]
  },
  {
   "cell_type": "code",
   "execution_count": 9,
   "metadata": {
    "collapsed": false,
    "scrolled": true
   },
   "outputs": [
    {
     "data": {
      "text/plain": [
       "StandardScaler(copy=True, with_mean=True, with_std=True)"
      ]
     },
     "execution_count": 9,
     "metadata": {},
     "output_type": "execute_result"
    }
   ],
   "source": [
    "sc.fit(X_train)"
   ]
  },
  {
   "cell_type": "code",
   "execution_count": 10,
   "metadata": {
    "collapsed": false
   },
   "outputs": [],
   "source": [
    "X_train_std=sc.transform(X_train)"
   ]
  },
  {
   "cell_type": "code",
   "execution_count": 11,
   "metadata": {
    "collapsed": true
   },
   "outputs": [],
   "source": [
    "X_test_std=sc.transform(X_test)"
   ]
  },
  {
   "cell_type": "code",
   "execution_count": 12,
   "metadata": {
    "collapsed": true
   },
   "outputs": [],
   "source": [
    "import matplotlib.pyplot as plt"
   ]
  },
  {
   "cell_type": "code",
   "execution_count": 13,
   "metadata": {
    "collapsed": true
   },
   "outputs": [],
   "source": [
    "%matplotlib inline"
   ]
  },
  {
   "cell_type": "code",
   "execution_count": 14,
   "metadata": {
    "collapsed": false,
    "scrolled": true
   },
   "outputs": [
    {
     "data": {
      "image/png": "[encoded data removed]",
      "text/plain": [
       "<matplotlib.figure.Figure at 0x1b76f240>"
      ]
     },
     "metadata": {},
     "output_type": "display_data"
    }
   ],
   "source": [
    "plt.hist(X_train[0])"
   ]
  },
  {
   "cell_type": "code",
   "execution_count": 23,
   "metadata": {
    "collapsed": false
   },
   "outputs": [
    {
     "data": {
      "text/plain": [
       "(array([ 29.,   5.,   0.,   5.,  16.,   9.,   5.,  18.,   7.,  11.]),\n",
       " array([-1.4487218 , -1.14011834, -0.83151488, -0.52291142, -0.21430796,\n",
       "         0.0942955 ,  0.40289896,  0.71150242,  1.02010588,  1.32870934,\n",
       "         1.6373128 ]),\n",
       " <a list of 10 Patch objects>)"
      ]
     },
     "execution_count": 23,
     "metadata": {},
     "output_type": "execute_result"
    },
    {
     "data": {
      "image/png": "[encoded data removed]",
      "text/plain": [
       "<matplotlib.figure.Figure at 0x1bc1b5f8>"
      ]
     },
     "metadata": {},
     "output_type": "display_data"
    }
   ],
   "source": [
    "plt.subplot(2,2,1)\n",
    "plt.hist(X_train.T[0],color='r')\n",
    "\n",
    "plt.subplot(2,2,2)\n",
    "plt.hist(X_train.T[1],color='r')\n",
    "\n",
    "plt.subplot(2,2,3)\n",
    "plt.hist(X_train_std.T[0],color='g')\n",
    "\n",
    "plt.subplot(2,2,4)\n",
    "plt.hist(X_train_std.T[1],color='g')\n"
   ]
  },
  {
   "cell_type": "code",
   "execution_count": 24,
   "metadata": {
    "collapsed": true
   },
   "outputs": [],
   "source": [
    "from sklearn.linear_model import LogisticRegression"
   ]
  },
  {
   "cell_type": "code",
   "execution_count": 25,
   "metadata": {
    "collapsed": true
   },
   "outputs": [],
   "source": [
    "lr=LogisticRegression(C=10000.0, random_state=0)"
   ]
  },
  {
   "cell_type": "code",
   "execution_count": 26,
   "metadata": {
    "collapsed": false
   },
   "outputs": [
    {
     "data": {
      "text/plain": [
       "LogisticRegression(C=10000.0, class_weight=None, dual=False,\n",
       "          fit_intercept=True, intercept_scaling=1, max_iter=100,\n",
       "          multi_class='ovr', penalty='l2', random_state=0,\n",
       "          solver='liblinear', tol=0.0001, verbose=0)"
      ]
     },
     "execution_count": 26,
     "metadata": {},
     "output_type": "execute_result"
    }
   ],
   "source": [
    "lr.fit(X_train_std,y_train)"
   ]
  },
  {
   "cell_type": "code",
   "execution_count": 27,
   "metadata": {
    "collapsed": true
   },
   "outputs": [],
   "source": [
    "from matplotlib.colors import ListedColormap"
   ]
  },
  {
   "cell_type": "code",
   "execution_count": 28,
   "metadata": {
    "collapsed": true
   },
   "outputs": [],
   "source": [
    "import matplotlib.pyplot as plt"
   ]
  },
  {
   "cell_type": "code",
   "execution_count": 143,
   "metadata": {
    "collapsed": true
   },
   "outputs": [],
   "source": [
    "def plot_decision_regions(X,y,classifier,test_idx=None,resolution=0.02):\n",
    "    # setup marker generator and color map\n",
    "    markers=('s','x','o','^','v')\n",
    "    colors=('red','blue','lightgreen','gray','cyan')\n",
    "    cmap=ListedColormap(colors[:len(np.unique(y))])\n",
    "    \n",
    "    # plot the decision surface\n",
    "    x1_min,x1_max=X[:,0].min()-1,X[:,0].max()+1\n",
    "    x2_min,x2_max=X[:,1].min()-1,X[:,1].max()+1\n",
    "    xx1,xx2=np.meshgrid(np.arange(x1_min,x1_max,resolution),np.arange(x2_min,x2_max,resolution))\n",
    "    Z=classifier.predict(np.array([xx1.ravel(),xx2.ravel()]).T)\n",
    "    Z=Z.reshape(xx1.shape)\n",
    "    plt.contourf(xx1,xx2,Z,alpha=0.4,cmap=cmap)    \n",
    "    plt.xlim(xx1.min(),xx1.max())\n",
    "    plt.ylim(xx2.min(),xx2.max())\n",
    "    \n",
    "    # plot all samples\n",
    "    X_test,y_test=X[test_idx,:],y[test_idx]\n",
    "    for idx,cl in enumerate(np.unique(y)):\n",
    "        plt.scatter(x=X[y==cl,0],y=X[y==cl,1],alpha=0.8,c=cmap(idx),marker=markers[idx],label=cl)\n",
    "        \n",
    "    # highlight test samples\n",
    "    if test_idx:\n",
    "        X_test,y_test=X[test_idx,:],y[test_idx]\n",
    "        plt.scatter(X_test[:,0],X_test[:,1],c='',alpha=1.0,linewidge=1,marker='o',s=55,label='test set')\n",
    "        \n",
    "    X_combined_std=np.vstack((X_train_std,X_test_std))\n",
    "    y_combined=np.hstack((y_train,y_test))\n",
    "    \n",
    "    plot_decision_region(X_combined_std,y_combined,classifier=lr,test_idx=range(105,150))\n",
    "    \n",
    "    plt.xlabel('petal length [standardized]')\n",
    "    plt.ylabel('petal width [standardized]')\n",
    "    plt.legend(loc='upper left')\n",
    "    plt.show()  \n",
    "        "
   ]
  },
  {
   "cell_type": "code",
   "execution_count": null,
   "metadata": {
    "collapsed": true
   },
   "outputs": [],
   "source": []
  }
 ],
 "metadata": {
  "kernelspec": {
   "display_name": "Python 2",
   "language": "python",
   "name": "python2"
  },
  "language_info": {
   "codemirror_mode": {
    "name": "ipython",
    "version": 2
   },
   "file_extension": ".py",
   "mimetype": "text/x-python",
   "name": "python",
   "nbconvert_exporter": "python",
   "pygments_lexer": "ipython2",
   "version": "2.7.10"
  }
 },
 "nbformat": 4,
 "nbformat_minor": 0
}
